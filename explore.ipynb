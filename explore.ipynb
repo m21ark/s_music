{
 "cells": [
  {
   "cell_type": "markdown",
   "metadata": {},
   "source": [
    "# Pre-Processing"
   ]
  },
  {
   "cell_type": "code",
   "execution_count": 22,
   "metadata": {},
   "outputs": [],
   "source": [
    "import pandas as pd\n",
    "import numpy as np"
   ]
  },
  {
   "cell_type": "code",
   "execution_count": 23,
   "metadata": {},
   "outputs": [],
   "source": [
    "df_track = pd.read_csv('data_clean/track.csv')\n",
    "df_album = pd.read_csv('data_clean/album.csv')\n",
    "df_artist = pd.read_csv('data_clean/artist.csv')\n",
    "df_rating = pd.read_csv('data_clean/rating.csv') # ignored on commit due to size"
   ]
  },
  {
   "cell_type": "code",
   "execution_count": 24,
   "metadata": {},
   "outputs": [
    {
     "name": "stdout",
     "output_type": "stream",
     "text": [
      "1                                    Blank Space\n",
      "8                                   Shake It Off\n",
      "32                                         Style\n",
      "51                                     Bad Blood\n",
      "80                           Welcome To New York\n",
      "82                                Wildest Dreams\n",
      "86                              Out Of The Woods\n",
      "233                                          Red\n",
      "308                                           22\n",
      "373                                  Begin Again\n",
      "384      We Are Never Ever Getting Back Together\n",
      "409                                  I Almost Do\n",
      "411                                 All Too Well\n",
      "412                               Stay Stay Stay\n",
      "413                               State Of Grace\n",
      "431                                        Ronan\n",
      "475                                    Eyes Open\n",
      "957                        Today Was A Fairytale\n",
      "1299                           Should've Said No\n",
      "1356                             Picture To Burn\n",
      "1370                                    Our Song\n",
      "1383                      Teardrops On My Guitar\n",
      "1629                                  Tim McGraw\n",
      "3602                          Abraham's Daughter\n",
      "3985                                 Treacherous\n",
      "3987                                 Holy Ground\n",
      "3989                                   Starlight\n",
      "3990                        Sad Beautiful Tragic\n",
      "3992                               The Lucky One\n",
      "5118                            I Wish You Would\n",
      "5119                  All You Had to Do Was Stay\n",
      "5120                        How You Get the Girl\n",
      "5121                                   This Love\n",
      "5122                               I Know Places\n",
      "5123                                       Clean\n",
      "5124                                  Wonderland\n",
      "5125                               New Romantics\n",
      "5126                             You Are in Love\n",
      "5294                 I Know Places (Piano/Vocal)\n",
      "5295              I Wish You Would (Track/Vocal)\n",
      "5296                  Blank Space (Guitar/Vocal)\n",
      "5313                                Taylor Swift\n",
      "5343                                         NaN\n",
      "6751                               The Last Time\n",
      "6752                      Everything Has Changed\n",
      "7131                         Nothing to Remember\n",
      "7132                    The Ruler and the Killer\n",
      "7133                                   Dark Days\n",
      "7134                                Kingdom Come\n",
      "7135                          Take the Heartland\n",
      "7136                                       Rules\n",
      "7137                          Lover Is Childlike\n",
      "7138                                 Just a Game\n",
      "10916                                   Umbrella\n",
      "10917                      A Place in This World\n",
      "10918                  Mary's Song (Oh My My My)\n",
      "Name: title, dtype: object\n"
     ]
    }
   ],
   "source": [
    "# Give me all track names by Taylor Swift\n",
    "\n",
    "# Get the artist id of Taylor Swift\n",
    "taylor_swift = df_artist[df_artist['name'] == 'Taylor Swift']\n",
    "taylor_swift_id = taylor_swift.iloc[0]['artist_id']\n",
    "\n",
    "# Get all tracks by Taylor Swift\n",
    "tracks_by_taylor_swift = df_track[df_track['artist_id'] == taylor_swift_id]\n",
    "track_names = tracks_by_taylor_swift['title']\n",
    "print(track_names)"
   ]
  },
  {
   "cell_type": "code",
   "execution_count": 25,
   "metadata": {},
   "outputs": [
    {
     "name": "stdout",
     "output_type": "stream",
     "text": [
      "0                                                   1989\n",
      "4                                           Shake It Off\n",
      "250              We Are Never Ever Getting Back Together\n",
      "264                                          Red Karaoke\n",
      "276                                                Ronan\n",
      "303    The Hunger Games: Songs from District 12 and B...\n",
      "552                                Today Was a Fairytale\n",
      "775                                         Taylor Swift\n",
      "790                                iTunes Live from SoHo\n",
      "Name: name, dtype: object\n"
     ]
    }
   ],
   "source": [
    "# Get all albums by Taylor Swift\n",
    "albums_by_taylor_swift = df_album[df_album['artist_id'] == taylor_swift_id]\n",
    "album_names = albums_by_taylor_swift['name']\n",
    "print(album_names)"
   ]
  },
  {
   "cell_type": "markdown",
   "metadata": {},
   "source": [
    "There seems to be a problem with the albums... only 1989, Red and Taylor Swift are actually albums that exist... the rest are either special versions or individual musics (e.g. Shake it off and Ronan). I might have done an upsi during cleaning? To tired to find the hypothetical bug rn"
   ]
  }
 ],
 "metadata": {
  "kernelspec": {
   "display_name": "Python 3",
   "language": "python",
   "name": "python3"
  },
  "language_info": {
   "codemirror_mode": {
    "name": "ipython",
    "version": 3
   },
   "file_extension": ".py",
   "mimetype": "text/x-python",
   "name": "python",
   "nbconvert_exporter": "python",
   "pygments_lexer": "ipython3",
   "version": "3.13.1"
  }
 },
 "nbformat": 4,
 "nbformat_minor": 2
}
