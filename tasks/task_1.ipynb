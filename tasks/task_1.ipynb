{
 "cells": [
  {
   "cell_type": "markdown",
   "metadata": {},
   "source": [
    "# Explore Ranking Similarities"
   ]
  },
  {
   "cell_type": "markdown",
   "metadata": {},
   "source": [
    "### Imports"
   ]
  },
  {
   "cell_type": "code",
   "execution_count": null,
   "metadata": {},
   "outputs": [],
   "source": [
    "import pandas as pd\n",
    "import numpy as np\n",
    "import matplotlib.pyplot as plt\n",
    "from scipy.stats import spearmanr\n",
    "import seaborn as sns"
   ]
  },
  {
   "cell_type": "markdown",
   "metadata": {},
   "source": [
    "### Data Imports"
   ]
  },
  {
   "cell_type": "code",
   "execution_count": null,
   "metadata": {},
   "outputs": [],
   "source": [
    "df_track = pd.read_csv('../data/track.csv')\n",
    "df_album = pd.read_csv('../data/album.csv')\n",
    "df_artist = pd.read_csv('../data/artist.csv')\n",
    "df = pd.read_csv('../data/rating.csv')\n",
    "df_similar = pd.read_csv('../data/track_similarity.csv')\n",
    "df_weekly_rating = pd.read_csv('../data/weekly_rating.csv')"
   ]
  },
  {
   "cell_type": "markdown",
   "metadata": {},
   "source": [
    "### Functions Definitions"
   ]
  },
  {
   "cell_type": "code",
   "execution_count": null,
   "metadata": {},
   "outputs": [],
   "source": [
    "def get_artist_id(artist_name):\n",
    "    return df_artist[df_artist['name'] == artist_name]['artist_id'].values[0]\n",
    "\n",
    "def get_album_id(album_name):\n",
    "    return df_album[df_album['name'] == album_name]['album_id'].values[0]\n",
    "\n",
    "def get_track_id(track_name):\n",
    "    return df_track[df_track['name'] == track_name]['track_id'].values[0]\n",
    "\n",
    "# ====================================================\n",
    "\n",
    "def get_all_tracks_by_artist(artist_id, only_id=False):\n",
    "    return df_track[df_track['artist_id'] == artist_id] if not only_id else df_track[df_track['artist_id'] == artist_id]['track_id']\n",
    "\n",
    "def get_all_tracks_by_album(album_id, only_id=False):\n",
    "    return df_track[df_track['album_id'] == album_id] if not only_id else df_track[df_track['album_id'] == album_id]['track_id']\n",
    "\n",
    "def get_all_albums_by_artist(artist_id, only_id=False):\n",
    "    return df_album[df_album['artist_id'] == artist_id] if not only_id else df_album[df_album['artist_id'] == artist_id]['album_id']\n",
    "\n",
    "# ====================================================\n",
    "\n",
    "def convert_track_id_to_name(track_id):\n",
    "    return df_track[df_track['track_id'] == track_id]['name'].values[0]\n",
    "\n",
    "def convert_album_id_to_name(album_id):\n",
    "    return df_album[df_album['album_id'] == album_id]['name'].values[0]\n",
    "\n",
    "def convert_artist_id_to_name(artist_id):\n",
    "    return df_artist[df_artist['artist_id'] == artist_id]['name'].values[0]\n",
    "\n",
    "# ====================================================\n",
    "\n",
    "def compare_track_lists_sim(track_id_list_1, track_id_list_2):\n",
    "\n",
    "    ret_list = []\n",
    "\n",
    "    for main_track_id in track_id_list_1:\n",
    "        for other_track_id in track_id_list_2:    \n",
    "            \n",
    "            similarity = df_similar[(df_similar['track_id_1'] == main_track_id) & (df_similar['track_id_2'] == other_track_id)]\n",
    "            \n",
    "            if not similarity.empty:\n",
    "                name1 = convert_track_id_to_name(main_track_id)\n",
    "                name2 = convert_track_id_to_name(other_track_id)\n",
    "                ret_list.append((name1, name2, float(similarity.iloc[0][\"sim_degree\"])))\n",
    "\n",
    "            similarity = df_similar[(df_similar['track_id_2'] == main_track_id) & (df_similar['track_id_1'] == other_track_id)]\n",
    "            \n",
    "            if not similarity.empty:\n",
    "                name1 = convert_track_id_to_name(main_track_id)\n",
    "                name2 = convert_track_id_to_name(other_track_id)\n",
    "                ret_list.append((name1, name2, float(similarity.iloc[0][\"sim_degree\"])))\n",
    "\n",
    "    ret = sorted(ret_list, key=lambda x: x[2], reverse=True)\n",
    "    return ret"
   ]
  },
  {
   "cell_type": "markdown",
   "metadata": {},
   "source": [
    "## Ranking Sources Comparision"
   ]
  },
  {
   "cell_type": "markdown",
   "metadata": {},
   "source": [
    "### By Average Rank of Track"
   ]
  },
  {
   "cell_type": "code",
   "execution_count": null,
   "metadata": {},
   "outputs": [],
   "source": [
    "def process_ratings():\n",
    "    df = pd.read_csv('../data/rating.csv')\n",
    "\n",
    "    # Convert the original 'date' column to datetime\n",
    "    df['date'] = pd.to_datetime(df['date'])\n",
    "\n",
    "    # Extract year and month, and set day as the first day of the month\n",
    "    df['date'] = pd.to_datetime(df['date'].dt.strftime('%Y'))\n",
    "    df['date'] = df['date'].dt.to_period('Y')\n",
    "\n",
    "    print(df.shape)\n",
    "\n",
    "    # Group by track_id and the modified date column (year-month) and calculate the mean\n",
    "    df_new = (\n",
    "        df.groupby(['track_id', 'date'], as_index=False)\n",
    "        .mean(numeric_only=True)\n",
    "        .round(0)\n",
    "    )\n",
    "\n",
    "    print(df_new.shape)\n",
    "\n",
    "    # Compare the sparsity of the original and new data\n",
    "    print('Original data sparsity:', df.isnull().sum().sum() / (df.shape[0] * df.shape[1]))\n",
    "    print('New data sparsity:', df_new.isnull().sum().sum() / (df_new.shape[0] * df_new.shape[1]))\n",
    "\n",
    "    df = df_new\n",
    "    df.head(10)\n",
    "\n",
    "    return df\n",
    "\n",
    "df = process_ratings()"
   ]
  },
  {
   "cell_type": "code",
   "execution_count": null,
   "metadata": {},
   "outputs": [],
   "source": [
    "# Ensure rankings are numeric\n",
    "columns_to_numeric = ['position_lastfm', 'position_spotify', 'position_billboard']\n",
    "df[columns_to_numeric] = df[columns_to_numeric].apply(pd.to_numeric, errors='coerce')\n",
    "\n",
    "df = df.drop(columns=['no_of_listeners_lastfm', 'no_of_listeners_spotify'])\n",
    "df = df.dropna()\n",
    "\n",
    "print('Rating dataframe shape:', df.shape)\n",
    "print('Number of distinct tracks:', len(df['track_id'].unique()))\n",
    "\n",
    "df.head(10)"
   ]
  },
  {
   "cell_type": "code",
   "execution_count": null,
   "metadata": {},
   "outputs": [],
   "source": [
    "# Compute pairwise Spearman correlations\n",
    "correlations = df[columns_to_numeric].corr(method='spearman')\n",
    "sns.heatmap(correlations, annot=True, cmap='coolwarm', fmt=\".2f\")\n",
    "plt.title('Spearman Correlation Between Rankings')\n",
    "plt.show()\n",
    "\n",
    "# Scatter plots to check for relationships\n",
    "sns.pairplot(df, vars=columns_to_numeric)\n",
    "plt.suptitle(\"Pairwise Comparisons of Rankings\", y=1.02)\n",
    "plt.show()"
   ]
  },
  {
   "cell_type": "code",
   "execution_count": null,
   "metadata": {},
   "outputs": [],
   "source": [
    "df = process_ratings()\n",
    "\n",
    "# Ensure rankings are numeric\n",
    "columns_to_numeric = ['no_of_listeners_lastfm', 'no_of_listeners_spotify']\n",
    "df[columns_to_numeric] = df[columns_to_numeric].apply(pd.to_numeric, errors='coerce')\n",
    "\n",
    "df = df.drop(columns=['position_lastfm', 'position_spotify', 'position_billboard'])\n",
    "df = df.dropna()\n",
    "\n",
    "print('Rating dataframe shape:', df.shape)\n",
    "print('Number of distinct tracks:', len(df['track_id'].unique()))\n",
    "\n",
    "df.head(10)"
   ]
  },
  {
   "cell_type": "code",
   "execution_count": null,
   "metadata": {},
   "outputs": [],
   "source": [
    "# Compute pairwise Spearman correlations\n",
    "correlations = df[columns_to_numeric].corr(method='spearman')\n",
    "sns.heatmap(correlations, annot=True, cmap='coolwarm', fmt=\".2f\")\n",
    "plt.title('Spearman Correlation Between Rankings')\n",
    "plt.show()\n",
    "\n",
    "# Scatter plots to check for relationships\n",
    "sns.pairplot(df, vars=columns_to_numeric)\n",
    "plt.suptitle(\"Pairwise Comparisons of Rankings\", y=1.02)\n",
    "plt.show()"
   ]
  },
  {
   "cell_type": "markdown",
   "metadata": {},
   "source": [
    "### By Weekly Rank of Track in 2013-2014"
   ]
  },
  {
   "cell_type": "code",
   "execution_count": null,
   "metadata": {},
   "outputs": [],
   "source": [
    "# Get the year dataframe, which is from weekly_rating, get all rows that have time_epoch >= 487 and time_epoch <= 539, so between 29/04/2013 and 04/05/2014\n",
    "df_year = df_weekly_rating[(df_weekly_rating['time_epoch'] >= 487) & (df_weekly_rating['time_epoch'] <= 539)]\n",
    "df_year.shape"
   ]
  },
  {
   "cell_type": "code",
   "execution_count": null,
   "metadata": {},
   "outputs": [],
   "source": [
    "# Detect which track has the highest correlation between the three positions, using spearman correlation, and only using rows where both positions are not NaN\n",
    "track_ids = df_year['track_id'].unique()\n",
    "\n",
    "# Create a list to store the correlations\n",
    "correlations = []\n",
    "\n",
    "# Iterate over the track ids\n",
    "for track_id in track_ids:\n",
    "    # Get the track data\n",
    "    df_year_single = df_year[df_year['track_id'] == track_id]\n",
    "    billboard_spotify_filtered = df_year_single.dropna(subset=['position_billboard','position_spotify'],how='any')\n",
    "    billboard_lastfm_filtered = df_year_single.dropna(subset=['position_billboard','position_lastfm'],how='any')\n",
    "    spotify_lastfm_filtered = df_year_single.dropna(subset=['position_spotify','position_lastfm'],how='any')\n",
    "    # Calculate the correlation between the positions, but use only the rows where both positions are not NaN\n",
    "    corr_billboard_spotify, _ = spearmanr(billboard_spotify_filtered['position_billboard'], billboard_spotify_filtered['position_spotify'])\n",
    "    corr_billboard_lastfm, _ = spearmanr(billboard_lastfm_filtered['position_billboard'], billboard_lastfm_filtered['position_lastfm'])\n",
    "    corr_spotify_lastfm, _ = spearmanr(spotify_lastfm_filtered['position_spotify'], spotify_lastfm_filtered['position_lastfm'])\n",
    "    # Save the correlations\n",
    "    correlations.append((track_id, corr_billboard_spotify, corr_billboard_lastfm, corr_spotify_lastfm))\n",
    "\n",
    "# Replace NaN values in each correlation with 0\n",
    "correlations = [(track_id, corr_billboard_spotify if not np.isnan(corr_billboard_spotify) else 0, corr_billboard_lastfm if not np.isnan(corr_billboard_lastfm) else 0, corr_spotify_lastfm if not np.isnan(corr_spotify_lastfm) else 0) for track_id, corr_billboard_spotify, corr_billboard_lastfm, corr_spotify_lastfm in correlations]"
   ]
  },
  {
   "cell_type": "code",
   "execution_count": null,
   "metadata": {},
   "outputs": [],
   "source": [
    "# Convert correlations list into a DataFrame\n",
    "correlations = sorted(correlations, key=lambda x: x[0], reverse=False)\n",
    "correlations_df = pd.DataFrame(correlations, columns=['track_id', 'billboard_spotify', 'billboard_lastfm', 'spotify_lastfm'])\n",
    "# Filter out tracks with all correlation values equal to 0\n",
    "correlations_df_filtered = correlations_df[\n",
    "    ~((correlations_df['billboard_spotify'] == 0) & \n",
    "      (correlations_df['billboard_lastfm'] == 0) & \n",
    "      (correlations_df['spotify_lastfm'] == 0))\n",
    "]\n",
    "\n",
    "# Plot heatmap for the filtered data\n",
    "plt.figure(figsize=(12, 8))\n",
    "sns.heatmap(correlations_df_filtered.set_index('track_id').transpose(), annot=True, cmap='coolwarm', fmt=\".2f\")\n",
    "plt.title('Spearman Correlations for Tracks with Non-Zero Values')\n",
    "plt.xlabel('Track ID')\n",
    "plt.ylabel('Correlation Pairs')\n",
    "plt.show()"
   ]
  },
  {
   "cell_type": "code",
   "execution_count": null,
   "metadata": {},
   "outputs": [],
   "source": [
    "for track_id in track_ids:\n",
    "    df_year_single = df_year[df_year['track_id'] == track_id]\n",
    "    \n",
    "    # Filter for non-NaN pairs\n",
    "    billboard_spotify = df_year_single.dropna(subset=['position_billboard', 'position_spotify'])\n",
    "    billboard_lastfm = df_year_single.dropna(subset=['position_billboard', 'position_lastfm'])\n",
    "    spotify_lastfm = df_year_single.dropna(subset=['position_spotify', 'position_lastfm'])\n",
    "    if billboard_spotify.empty and billboard_lastfm.empty and spotify_lastfm.empty:\n",
    "        continue\n",
    "    # Create scatter plots\n",
    "    plt.figure(figsize=(16, 5))\n",
    "    \n",
    "    # Billboard vs Spotify\n",
    "    plt.subplot(1, 3, 1)\n",
    "    plt.scatter(billboard_spotify['position_billboard'], billboard_spotify['position_spotify'], alpha=0.6)\n",
    "    plt.title(f'Billboard vs Spotify (Track {track_id})')\n",
    "    plt.xlabel('Position Billboard')\n",
    "    plt.ylabel('Position Spotify')\n",
    "    \n",
    "    # Billboard vs Last.fm\n",
    "    plt.subplot(1, 3, 2)\n",
    "    plt.scatter(billboard_lastfm['position_billboard'], billboard_lastfm['position_lastfm'], alpha=0.6)\n",
    "    plt.title(f'Billboard vs Last.fm (Track {track_id})')\n",
    "    plt.xlabel('Position Billboard')\n",
    "    plt.ylabel('Position Last.fm')\n",
    "    \n",
    "    # Spotify vs Last.fm\n",
    "    plt.subplot(1, 3, 3)\n",
    "    plt.scatter(spotify_lastfm['position_spotify'], spotify_lastfm['position_lastfm'], alpha=0.6)\n",
    "    plt.title(f'Spotify vs Last.fm (Track {track_id})')\n",
    "    plt.xlabel('Position Spotify')\n",
    "    plt.ylabel('Position Last.fm')\n",
    "    \n",
    "    plt.tight_layout()\n",
    "    plt.show()"
   ]
  },
  {
   "cell_type": "code",
   "execution_count": null,
   "metadata": {},
   "outputs": [],
   "source": [
    "# Correlations for billboard and spotify\n",
    "\n",
    "# Sort the correlations\n",
    "correlations = sorted(correlations, key=lambda x: x[1], reverse=True)\n",
    "# Get the track with the highest correlation\n",
    "best_track_id, corr_billboard_spotify, corr_billboard_lastfm, corr_spotify_lastfm = correlations[0]\n",
    "# Print the results\n",
    "#print(df_track)\n",
    "print(f'Track with highest correlation between Billboard and Spotify: {convert_track_id_to_name(best_track_id), corr_billboard_spotify}')"
   ]
  },
  {
   "cell_type": "code",
   "execution_count": null,
   "metadata": {},
   "outputs": [],
   "source": [
    "# Correlations for billboard and lastfm\n",
    "\n",
    "# Sort the correlations\n",
    "correlations = sorted(correlations, key=lambda x: x[2], reverse=True)\n",
    "# Get the track with the highest correlation\n",
    "best_track_id, corr_billboard_spotify, corr_billboard_lastfm, corr_spotify_lastfm = correlations[0]\n",
    "# Print the results\n",
    "print(f'Track with highest correlation between Billboard and LastFM: {convert_track_id_to_name(best_track_id), corr_billboard_lastfm}')"
   ]
  },
  {
   "cell_type": "code",
   "execution_count": null,
   "metadata": {},
   "outputs": [],
   "source": [
    "# Correlations for spotify and lastfm\n",
    "\n",
    "# Sort the correlations\n",
    "correlations = sorted(correlations, key=lambda x: x[3], reverse=True)\n",
    "# Get the track with the highest correlation\n",
    "best_track_id, corr_billboard_spotify, corr_billboard_lastfm, corr_spotify_lastfm = correlations[0]\n",
    "# Print the results\n",
    "print(f'Track with highest correlation between Spotify and LastFM: {convert_track_id_to_name(best_track_id), corr_spotify_lastfm}')"
   ]
  },
  {
   "cell_type": "code",
   "execution_count": null,
   "metadata": {},
   "outputs": [],
   "source": [
    "# Create average of each column as a variable, using df mean\n",
    "average_billboard_spotify = df['position_billboard'].corr(df['position_spotify'])\n",
    "average_billboard_lastfm = df['position_billboard'].corr(df['position_lastfm'])\n",
    "average_spotify_lastfm = df['position_spotify'].corr(df['position_lastfm'])\n",
    "\n",
    "print(average_billboard_lastfm)\n",
    "print(average_billboard_spotify)\n",
    "print(average_spotify_lastfm)\n",
    "\n",
    "# Create average of each column as a variable, using np.mean\n",
    "average_billboard_spotify = np.mean([corr_billboard_spotify for _, corr_billboard_spotify, _, _ in correlations if corr_billboard_spotify != 0])\n",
    "average_billboard_lastfm = np.mean([corr_billboard_lastfm for _, _, corr_billboard_lastfm, _ in correlations if corr_billboard_lastfm != 0])\n",
    "average_spotify_lastfm = np.mean([corr_spotify_lastfm for _, _, _, corr_spotify_lastfm in correlations if corr_spotify_lastfm != 0])\n",
    "\n",
    "print(average_billboard_lastfm)\n",
    "print(average_billboard_spotify)\n",
    "print(average_spotify_lastfm)\n",
    "\n",
    "# Create graphic with the averages\n",
    "#plt.figure(figsize=(12, 8))\n",
    "#plt.bar(['Billboard vs Spotify', 'Billboard vs LastFM', 'Spotify vs LastFM'], [average_billboard_spotify, average_billboard_lastfm, average_spotify_lastfm])\n",
    "#plt.title('Average Correlation Between Rankings')\n",
    "#plt.ylabel('Average Correlation')\n",
    "#plt.show()\n",
    "\n"
   ]
  },
  {
   "cell_type": "code",
   "execution_count": null,
   "metadata": {},
   "outputs": [],
   "source": [
    "columns = ['position_billboard', 'position_spotify', 'position_lastfm']\n",
    "\n",
    "# Create a grid for scatter plots\n",
    "fig, axes = plt.subplots(len(columns), len(columns), figsize=(12, 12))\n",
    "\n",
    "for i, col1 in enumerate(columns):\n",
    "    for j, col2 in enumerate(columns):\n",
    "        if i == j:\n",
    "            # Plot histogram on the diagonal\n",
    "            axes[i, j].hist(df_year[col1].dropna(), bins=20, alpha=0.7, color='gray')\n",
    "            axes[i, j].set_title(col1)\n",
    "        else:\n",
    "            # Scatter plot for non-NaN values for the specific pair of columns\n",
    "            subset = df_year.dropna(subset=[col1, col2])\n",
    "            print(subset)\n",
    "            axes[i, j].scatter(subset[col1], subset[col2], alpha=0.6)\n",
    "            axes[i, j].set_xlabel(col1)\n",
    "            axes[i, j].set_ylabel(col2)\n",
    "\n",
    "plt.tight_layout()\n",
    "plt.suptitle(\"Pairwise Comparisons of Rankings (Handling NaN Dynamically)\", y=1.02)\n",
    "plt.show()"
   ]
  }
 ],
 "metadata": {
  "kernelspec": {
   "display_name": "Python 3",
   "language": "python",
   "name": "python3"
  },
  "language_info": {
   "codemirror_mode": {
    "name": "ipython",
    "version": 3
   },
   "file_extension": ".py",
   "mimetype": "text/x-python",
   "name": "python",
   "nbconvert_exporter": "python",
   "pygments_lexer": "ipython3",
   "version": "3.10.6"
  }
 },
 "nbformat": 4,
 "nbformat_minor": 2
}
