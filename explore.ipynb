{
 "cells": [
  {
   "cell_type": "markdown",
   "metadata": {},
   "source": [
    "# Pre-Processing"
   ]
  },
  {
   "cell_type": "code",
   "execution_count": 81,
   "metadata": {},
   "outputs": [],
   "source": [
    "import pandas as pd\n",
    "import numpy as np"
   ]
  },
  {
   "cell_type": "code",
   "execution_count": 82,
   "metadata": {},
   "outputs": [],
   "source": [
    "df_track = pd.read_csv('data_clean/track.csv')\n",
    "df_album = pd.read_csv('data_clean/album.csv')\n",
    "df_artist = pd.read_csv('data_clean/artist.csv')\n",
    "df_rating = pd.read_csv('data_clean/rating.csv') # ignored on commit due to size\n",
    "df_similar = pd.read_csv('data_clean/track_similarity.csv')"
   ]
  },
  {
   "cell_type": "code",
   "execution_count": 83,
   "metadata": {},
   "outputs": [
    {
     "name": "stdout",
     "output_type": "stream",
     "text": [
      "1                      Blank Space\n",
      "8                     Shake It Off\n",
      "71                           Style\n",
      "112                      Bad Blood\n",
      "186            Welcome To New York\n",
      "                   ...            \n",
      "11036           Lover Is Childlike\n",
      "11037                  Just a Game\n",
      "14815                     Umbrella\n",
      "14816        A Place in This World\n",
      "14817    Mary's Song (Oh My My My)\n",
      "Name: title, Length: 95, dtype: object\n"
     ]
    }
   ],
   "source": [
    "# Give me all track names by Taylor Swift\n",
    "\n",
    "# Get the artist id of Taylor Swift\n",
    "taylor_swift = df_artist[df_artist['name'] == 'Taylor Swift']\n",
    "taylor_swift_id = taylor_swift.iloc[0]['artist_id']\n",
    "\n",
    "# Get all tracks by Taylor Swift\n",
    "tracks_by_taylor_swift = df_track[df_track['artist_id'] == taylor_swift_id]\n",
    "track_names = tracks_by_taylor_swift['title']\n",
    "print(track_names)"
   ]
  },
  {
   "cell_type": "code",
   "execution_count": 84,
   "metadata": {},
   "outputs": [
    {
     "name": "stdout",
     "output_type": "stream",
     "text": [
      "0                                                   1989\n",
      "4                                           Shake It Off\n",
      "250              We Are Never Ever Getting Back Together\n",
      "264                                          Red Karaoke\n",
      "276                                                Ronan\n",
      "303    The Hunger Games: Songs from District 12 and B...\n",
      "552                                Today Was a Fairytale\n",
      "775                                         Taylor Swift\n",
      "790                                iTunes Live from SoHo\n",
      "Name: name, dtype: object\n"
     ]
    }
   ],
   "source": [
    "# Get all albums by Taylor Swift\n",
    "albums_by_taylor_swift = df_album[df_album['artist_id'] == taylor_swift_id]\n",
    "album_names = albums_by_taylor_swift['name']\n",
    "print(album_names)"
   ]
  },
  {
   "cell_type": "code",
   "execution_count": 85,
   "metadata": {},
   "outputs": [
    {
     "name": "stdout",
     "output_type": "stream",
     "text": [
      "['Glee Cast', 'Kanye West', 'Justin Bieber', 'The Beach Boys', 'Cloud Nothings', 'T.I.', 'The Beatles', 'Coldplay', 'Beastie Boys', 'Weezer', 'Calvin Harris', 'Aphex Twin', 'George Strait', 'Nine Inch Nails', 'The Smashing Pumpkins', 'Drake', 'Rihanna', 'Brad Paisley', 'Taylor Swift', 'Zac Efron']\n"
     ]
    }
   ],
   "source": [
    "# print the 20 artists with the most tracks\n",
    "track_counts = df_track['artist_id'].value_counts()\n",
    "artist_ids = track_counts.index[:20]\n",
    "artist_counts = track_counts.values[:20]\n",
    "artist_names = []\n",
    "for artist_id in artist_ids:\n",
    "    artist = df_artist[df_artist['artist_id'] == artist_id]\n",
    "    artist_name = artist.iloc[0]['name']\n",
    "    artist_names.append(artist_name)\n",
    "print(artist_names)"
   ]
  },
  {
   "cell_type": "code",
   "execution_count": 86,
   "metadata": {},
   "outputs": [
    {
     "name": "stdout",
     "output_type": "stream",
     "text": [
      "Blank Space - Take Me To Church - 0.3324\n",
      "Shake It Off - Take Me To Church - 0.373951\n",
      "Style - Take Me To Church - 0.252599\n",
      "Bad Blood - Take Me To Church - 0.244916\n",
      "Welcome To New York - Take Me To Church - 0.264725\n",
      "Wildest Dreams - Take Me To Church - 0.223395\n",
      "Out Of The Woods - Take Me To Church - 0.302672\n",
      "Red - Take Me To Church - 0.137104\n",
      "Sweeter Than Fiction - Take Me To Church - 0.178207\n",
      "22 - Take Me To Church - 0.161293\n",
      "I Knew You Were Trouble. - Take Me To Church - 0.238344\n",
      "Begin Again - Take Me To Church - 0.147872\n",
      "We Are Never Ever Getting Back Together - Take Me To Church - 0.122391\n",
      "The Moment I Knew - Take Me To Church - 0.0811865\n",
      "I Almost Do - Take Me To Church - 0.0916304\n",
      "All Too Well - Take Me To Church - 0.0909596\n",
      "Stay Stay Stay - Take Me To Church - 0.0782035\n",
      "State Of Grace - Take Me To Church - 0.122132\n",
      "Ronan - Take Me To Church - 0.0904206\n",
      "Eyes Open - Take Me To Church - 1.0\n",
      "Ours - Take Me To Church - 0.0812652\n",
      "Sparks Fly - Take Me To Church - 0.0899633\n",
      "If This Was A Movie - Take Me To Church - 0.0601875\n",
      "Superman - Take Me To Church - 0.0761484\n",
      "Haunted - Take Me To Church - 0.0506782\n",
      "Mean - Take Me To Church - 0.10124\n",
      "The Story Of Us - Take Me To Church - 0.0935844\n",
      "Back To December - Take Me To Church - 0.107435\n",
      "Mine - Take Me To Church - 0.101635\n",
      "Innocent - Take Me To Church - 0.0810265\n",
      "Dear John - Take Me To Church - 0.0743212\n",
      "Better Than Revenge - Take Me To Church - 0.0938494\n",
      "Last Kiss - Take Me To Church - 0.0745023\n",
      "Enchanted - Take Me To Church - 0.0989473\n",
      "Never Grow Up - Take Me To Church - 0.0550684\n",
      "Long Live - Take Me To Church - 0.0832557\n",
      "Speak Now - Take Me To Church - 0.100722\n",
      "Today Was A Fairytale - Take Me To Church - 0.103463\n",
      "Fearless - Take Me To Church - 0.0676649\n",
      "You Belong With Me - Take Me To Church - 0.0973812\n",
      "Fifteen - Take Me To Church - 0.062161\n",
      "Jump Then Fall - Take Me To Church - 0.0440901\n",
      "Untouchable - Take Me To Church - 0.0490448\n",
      "The Other Side Of The Door - Take Me To Church - 0.0478557\n",
      "Forever & Always - Take Me To Church - 0.0693327\n",
      "Superstar - Take Me To Church - 0.0390337\n",
      "Come In With The Rain - Take Me To Church - 0.0495224\n",
      "Love Story - Take Me To Church - 0.0913707\n",
      "Crazier - Take Me To Church - 0.096994\n",
      "White Horse - Take Me To Church - 0.0637171\n",
      "You're Not Sorry - Take Me To Church - 0.0627683\n",
      "The Way I Loved You - Take Me To Church - 0.049797\n",
      "Breathe - Take Me To Church - 0.0568366\n",
      "Hey Stephen - Take Me To Church - 0.0674332\n",
      "Should've Said No - Take Me To Church - 0.076567\n",
      "Change - Take Me To Church - 0.0686414\n",
      "Picture To Burn - Take Me To Church - 0.05821\n",
      "Our Song - Take Me To Church - 0.0692299\n",
      "Teardrops On My Guitar - Take Me To Church - 0.0641152\n",
      "Tim McGraw - Take Me To Church - 0.0605255\n",
      "Treacherous - Take Me To Church - 0.125273\n",
      "Holy Ground - Take Me To Church - 0.0793185\n",
      "Starlight - Take Me To Church - 0.0819371\n",
      "Sad Beautiful Tragic - Take Me To Church - 0.0710159\n",
      "The Lucky One - Take Me To Church - 0.111803\n",
      "I Knew You Were Trouble - Take Me To Church - 0.125286\n",
      "I Wish You Would - Take Me To Church - 0.186942\n",
      "All You Had to Do Was Stay - Take Me To Church - 0.254631\n",
      "How You Get the Girl - Take Me To Church - 0.221471\n",
      "This Love - Take Me To Church - 0.197712\n",
      "I Know Places - Take Me To Church - 0.236524\n",
      "Clean - Take Me To Church - 0.18482\n",
      "Wonderland - Take Me To Church - 0.220396\n",
      "New Romantics - Take Me To Church - 0.231226\n",
      "You Are in Love - Take Me To Church - 0.0873842\n"
     ]
    }
   ],
   "source": [
    "# Compare all artist_id 1 tracks with all artist_id 2 tracks using track_similarity\n",
    "\n",
    "# Get all tracks by taylor swift\n",
    "taylor_tracks_ids = df_track[df_track['artist_id'] == taylor_swift_id]['track_id']\n",
    "\n",
    "# print(taylor_tracks_ids.to_list())\n",
    "\n",
    "# Compare all tracks by taylor swift with all tracks by Coldplay\n",
    "coldplay = df_artist[df_artist['name'] == 'Hozier']\n",
    "coldplay_id = coldplay.iloc[0]['artist_id']\n",
    "coldplay_tracks_ids = df_track[df_track['artist_id'] == coldplay_id]['track_id']\n",
    "\n",
    "# print(coldplay_tracks_ids.to_list())\n",
    "\n",
    "# Get the similarity between all tracks by taylor swift and all tracks by Coldplay\n",
    "\n",
    "for taylor_track_id in taylor_tracks_ids:\n",
    "    for coldplay_track_id in coldplay_tracks_ids:    \n",
    "        \n",
    "        similarity = df_similar[(df_similar['track_id_1'] == taylor_track_id) & (df_similar['track_id_2'] == coldplay_track_id)]\n",
    "        \n",
    "        if not similarity.empty:\n",
    "            # convert the ids to track names\n",
    "            taylor_track_name = df_track[df_track['track_id'] == taylor_track_id].iloc[0]['title']\n",
    "            coldplay_track_name = df_track[df_track['track_id'] == coldplay_track_id].iloc[0]['title']\n",
    "            print(f'{taylor_track_name} - {coldplay_track_name} - {similarity.iloc[0][\"sim_degree\"]}')\n",
    "            \n",
    "    \n"
   ]
  },
  {
   "cell_type": "markdown",
   "metadata": {},
   "source": [
    "There seems to be a problem with the albums... only 1989, Red and Taylor Swift are actually albums that exist... the rest are either special versions or individual musics (e.g. Shake it off and Ronan). I might have done an upsi during cleaning? To tired to find the hypothetical bug rn"
   ]
  }
 ],
 "metadata": {
  "kernelspec": {
   "display_name": "Python 3",
   "language": "python",
   "name": "python3"
  },
  "language_info": {
   "codemirror_mode": {
    "name": "ipython",
    "version": 3
   },
   "file_extension": ".py",
   "mimetype": "text/x-python",
   "name": "python",
   "nbconvert_exporter": "python",
   "pygments_lexer": "ipython3",
   "version": "3.13.1"
  }
 },
 "nbformat": 4,
 "nbformat_minor": 2
}
