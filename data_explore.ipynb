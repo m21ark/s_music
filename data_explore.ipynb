{
 "cells": [
  {
   "cell_type": "markdown",
   "metadata": {},
   "source": [
    "# Explore"
   ]
  },
  {
   "cell_type": "markdown",
   "metadata": {},
   "source": [
    "### Imports"
   ]
  },
  {
   "cell_type": "code",
   "execution_count": 50,
   "metadata": {},
   "outputs": [],
   "source": [
    "import pandas as pd\n",
    "import numpy as np\n",
    "import matplotlib.pyplot as plt\n",
    "from scipy.stats import spearmanr\n",
    "import seaborn as sns"
   ]
  },
  {
   "cell_type": "markdown",
   "metadata": {},
   "source": [
    "### Data Imports"
   ]
  },
  {
   "cell_type": "code",
   "execution_count": 51,
   "metadata": {},
   "outputs": [],
   "source": [
    "df_track = pd.read_csv('data_clean/track.csv')\n",
    "df_album = pd.read_csv('data_clean/album.csv')\n",
    "df_artist = pd.read_csv('data_clean/artist.csv')\n",
    "df_rating = pd.read_csv('data_clean/rating.csv')\n",
    "df_similar = pd.read_csv('data_clean/track_similarity.csv')"
   ]
  },
  {
   "cell_type": "markdown",
   "metadata": {},
   "source": [
    "### Functions Definitions"
   ]
  },
  {
   "cell_type": "code",
   "execution_count": 52,
   "metadata": {},
   "outputs": [],
   "source": [
    "def get_artist_id(artist_name):\n",
    "    return df_artist[df_artist['name'] == artist_name]['artist_id'].values[0]\n",
    "\n",
    "def get_album_id(album_name):\n",
    "    return df_album[df_album['name'] == album_name]['album_id'].values[0]\n",
    "\n",
    "def get_track_id(track_name):\n",
    "    return df_track[df_track['name'] == track_name]['track_id'].values[0]\n",
    "\n",
    "# ====================================================\n",
    "\n",
    "def get_all_tracks_by_artist(artist_id, only_id=False):\n",
    "    return df_track[df_track['artist_id'] == artist_id] if not only_id else df_track[df_track['artist_id'] == artist_id]['track_id']\n",
    "\n",
    "def get_all_tracks_by_album(album_id, only_id=False):\n",
    "    return df_track[df_track['album_id'] == album_id] if not only_id else df_track[df_track['album_id'] == album_id]['track_id']\n",
    "\n",
    "def get_all_albums_by_artist(artist_id, only_id=False):\n",
    "    return df_album[df_album['artist_id'] == artist_id] if not only_id else df_album[df_album['artist_id'] == artist_id]['album_id']\n",
    "\n",
    "# ====================================================\n",
    "\n",
    "def convert_track_id_to_name(track_id):\n",
    "    return df_track[df_track['track_id'] == track_id]['title'].values[0]\n",
    "\n",
    "def convert_album_id_to_name(album_id):\n",
    "    return df_album[df_album['album_id'] == album_id]['name'].values[0]\n",
    "\n",
    "def convert_artist_id_to_name(artist_id):\n",
    "    return df_artist[df_artist['artist_id'] == artist_id]['name'].values[0]\n",
    "\n",
    "# ====================================================\n",
    "\n",
    "def compare_track_lists_sim(track_id_list_1, track_id_list_2):\n",
    "\n",
    "    ret_list = []\n",
    "\n",
    "    for main_track_id in track_id_list_1:\n",
    "        for other_track_id in track_id_list_2:    \n",
    "            \n",
    "            similarity = df_similar[(df_similar['track_id_1'] == main_track_id) & (df_similar['track_id_2'] == other_track_id)]\n",
    "            \n",
    "            if not similarity.empty:\n",
    "                name1 = convert_track_id_to_name(main_track_id)\n",
    "                name2 = convert_track_id_to_name(other_track_id)\n",
    "                ret_list.append((name1, name2, float(similarity.iloc[0][\"sim_degree\"])))\n",
    "\n",
    "            similarity = df_similar[(df_similar['track_id_2'] == main_track_id) & (df_similar['track_id_1'] == other_track_id)]\n",
    "            \n",
    "            if not similarity.empty:\n",
    "                name1 = convert_track_id_to_name(main_track_id)\n",
    "                name2 = convert_track_id_to_name(other_track_id)\n",
    "                ret_list.append((name1, name2, float(similarity.iloc[0][\"sim_degree\"])))\n",
    "\n",
    "    ret = sorted(ret_list, key=lambda x: x[2], reverse=True)\n",
    "    return ret"
   ]
  },
  {
   "cell_type": "markdown",
   "metadata": {},
   "source": [
    "### Exploration"
   ]
  },
  {
   "cell_type": "code",
   "execution_count": 53,
   "metadata": {},
   "outputs": [
    {
     "name": "stdout",
     "output_type": "stream",
     "text": [
      "Number of different artists: 2557\n",
      "Number of different albums: 1843\n",
      "Number of different tracks: 23385\n",
      "\n",
      "Mean number of tracks per album: 12.7\n",
      "Mean number of albums per artist: 0.7\n",
      "Mean number of tracks per artist: 9.1\n"
     ]
    }
   ],
   "source": [
    "# number of different artists\n",
    "artist_count = len(df_artist)\n",
    "print(\"Number of different artists:\", artist_count) \n",
    "\n",
    "# number of different albums\n",
    "album_count = len(df_album)\n",
    "print(\"Number of different albums:\", album_count)\n",
    "\n",
    "# number of different tracks\n",
    "track_count = len(df_track)\n",
    "print(\"Number of different tracks:\", track_count)\n",
    "\n",
    "# mean number of tracks per album\n",
    "mean_tracks_per_album = round(track_count / album_count, 1)\n",
    "print(\"\\nMean number of tracks per album:\", mean_tracks_per_album)\n",
    "\n",
    "# mean number of albums per artist\n",
    "mean_albums_per_artist = round(album_count / artist_count, 1)   \n",
    "print(\"Mean number of albums per artist:\", mean_albums_per_artist)\n",
    "\n",
    "# mean number of tracks per artist\n",
    "mean_tracks_per_artist = round(track_count / artist_count, 1)\n",
    "print(\"Mean number of tracks per artist:\", mean_tracks_per_artist)"
   ]
  },
  {
   "cell_type": "code",
   "execution_count": 54,
   "metadata": {},
   "outputs": [
    {
     "name": "stdout",
     "output_type": "stream",
     "text": [
      "Taylor Swift ID: 2\n",
      "Taylor Swift Tracks: ['Blank Space', 'Shake It Off', 'Style', 'Bad Blood', 'Welcome To New York', 'Wildest Dreams', 'Out Of The Woods', 'Red', 'Sweeter Than Fiction', '22', 'I Knew You Were Trouble.', 'Begin Again', 'We Are Never Ever Getting Back Together', 'The Moment I Knew', 'I Almost Do', 'All Too Well', 'Stay Stay Stay', 'State Of Grace', 'Ronan', 'Eyes Open', 'Ours', 'Sparks Fly', 'If This Was A Movie', 'Superman', 'Haunted', 'Mean', 'The Story Of Us', 'Back To December', 'Mine', 'Innocent', 'Dear John', 'Better Than Revenge', 'Last Kiss', 'Enchanted', 'Never Grow Up', 'Long Live', 'Speak Now', 'Today Was A Fairytale', 'Fearless', 'You Belong With Me', 'Breathless', 'Fifteen', 'Jump Then Fall', 'Untouchable', 'The Other Side Of The Door', 'Forever & Always', 'Superstar', 'Come In With The Rain', 'Love Story', 'Crazier', 'White Horse', \"You're Not Sorry\", 'The Way I Loved You', 'Breathe', 'Hey Stephen', \"Should've Said No\", 'Change', 'Picture To Burn', 'Our Song', 'Teardrops On My Guitar', 'Tim McGraw', 'We Are Never Ever Gettingâ\\x80¦', 'Treacherous', 'Holy Ground', 'Starlight', 'Sad Beautiful Tragic', 'The Lucky One', 'I Knew You Were Trouble', 'I Wish You Would', 'All You Had to Do Was Stay', 'How You Get the Girl', 'This Love', 'I Know Places', 'Clean', 'Wonderland', 'New Romantics', 'You Are in Love', 'I Know Places (Piano/Vocal)', 'I Wish You Would (Track/Vocal)', 'Blank Space (Guitar/Vocal)', 'Taylor Swift', nan, 'The Last Time', 'Everything Has Changed', 'Nothing to Remember', 'The Ruler and the Killer', 'Dark Days', 'Kingdom Come', 'Take the Heartland', 'Rules', 'Lover Is Childlike', 'Just a Game', 'Umbrella', 'A Place in This World', \"Mary's Song (Oh My My My)\"]\n",
      "Taylor Swift Albums: ['1989', 'Shake It Off', 'We Are Never Ever Getting Back Together', 'Red Karaoke', 'Ronan', 'The Hunger Games: Songs from District 12 and Beyond', 'Today Was a Fairytale', 'Taylor Swift', 'iTunes Live from SoHo']\n"
     ]
    }
   ],
   "source": [
    "taylor_swift_id = get_artist_id('Taylor Swift')\n",
    "tracks_by_taylor_swift_ids = get_all_tracks_by_artist(taylor_swift_id)\n",
    "albums_by_taylor_swift_ids = get_all_albums_by_artist(taylor_swift_id)\n",
    "\n",
    "print('Taylor Swift ID:', taylor_swift_id)\n",
    "print('Taylor Swift Tracks:', [convert_track_id_to_name(track_id) for track_id in tracks_by_taylor_swift_ids['track_id'].values])\n",
    "print('Taylor Swift Albums:', [convert_album_id_to_name(album_id) for album_id in albums_by_taylor_swift_ids['album_id'].values])\n"
   ]
  },
  {
   "cell_type": "code",
   "execution_count": 55,
   "metadata": {},
   "outputs": [
    {
     "name": "stdout",
     "output_type": "stream",
     "text": [
      "Top 20 artists by number of tracks:\n",
      "      artist_id  track_count            artist_name\n",
      "407         408          358              Glee Cast\n",
      "358         359          130             Kanye West\n",
      "342         343          130          Justin Bieber\n",
      "2322       2323          126         The Beach Boys\n",
      "2331       2332          126         Cloud Nothings\n",
      "657         658          124                   T.I.\n",
      "2191       2192          120            The Beatles\n",
      "150         151          114               Coldplay\n",
      "2101       2102          112           Beastie Boys\n",
      "1187       1188          111                 Weezer\n",
      "186         187          109          Calvin Harris\n",
      "2491       2492          109             Aphex Twin\n",
      "226         227          107          George Strait\n",
      "1683       1684          100        Nine Inch Nails\n",
      "1633       1634          100  The Smashing Pumpkins\n",
      "122         123          100                  Drake\n",
      "370         371           96                Rihanna\n",
      "51           52           96           Brad Paisley\n",
      "1             2           95           Taylor Swift\n",
      "1606       1607           95              Zac Efron\n"
     ]
    },
    {
     "data": {
      "image/png": "[encoded data removed]",
      "text/plain": [
       "<Figure size 640x480 with 1 Axes>"
      ]
     },
     "metadata": {},
     "output_type": "display_data"
    }
   ],
   "source": [
    "# print the 20 artists with the most tracks\n",
    "artist_track_count = df_track.groupby('artist_id').size().reset_index(name='track_count')\n",
    "artist_track_count = artist_track_count.sort_values(by='track_count', ascending=False)\n",
    "\n",
    "# make a distribution of the number of tracks per artist\n",
    "plt.hist(artist_track_count['track_count'], bins=50)\n",
    "plt.xlabel('Number of tracks')\n",
    "plt.ylabel('Number of artists')\n",
    "plt.yscale('log')\n",
    "plt.title('Distribution of the number of tracks per artist')\n",
    "\n",
    "artist_track_count = artist_track_count.head(20)\n",
    "artist_track_count['artist_name'] = artist_track_count['artist_id'].apply(convert_artist_id_to_name)\n",
    "print(\"Top 20 artists by number of tracks:\\n\" + str(artist_track_count))"
   ]
  },
  {
   "cell_type": "code",
   "execution_count": 56,
   "metadata": {},
   "outputs": [
    {
     "name": "stdout",
     "output_type": "stream",
     "text": [
      "Top 20 albums by number of tracks:\n",
      "      album_id  track_count                                       album_name\n",
      "446      448.0          130         Glee: The Music, The Complete Season Two\n",
      "1504    1506.0          115  Good Vibrations: Thirty Years of The Beach Boys\n",
      "1520    1522.0          112                              BIRP! February 2012\n",
      "270      272.0          106        Glee: The Music, The Complete Season Four\n",
      "1785    1787.0           95                Bleep: The Top 100 Tracks of 2014\n",
      "175      177.0           87            Musikvideos Jahrescharts 2013 Top 100\n",
      "1054    1056.0           85                          Disney Classics Box Set\n",
      "312      314.0           82                                 100x Liefde 2014\n",
      "599      601.0           62                                    Årsbeste 2009\n",
      "177      179.0           61                        The Disco Boys, Volume 14\n",
      "291      293.0           58                          The Video Year Mix 2012\n",
      "1839    1841.0           54                                  100X Zomer 2014\n",
      "1840    1842.0           49  BBC Radio 1's Live Lounge 2013 (Deluxe Version)\n",
      "1696    1698.0           47                              Summer Workout Hits\n",
      "1108    1110.0           45                                    Pyro Technics\n",
      "1503    1505.0           45                  Now That's What I Call 30 Years\n",
      "1345    1347.0           43                          The Ultimate Collection\n",
      "952      954.0           43        Casino Royale, Volume 1: For the Hustlers\n",
      "631      633.0           42                                    Greatest Hits\n",
      "530      532.0           40                 Now That’s What I Call Music! 76\n"
     ]
    },
    {
     "data": {
      "image/png": "[encoded data removed]",
      "text/plain": [
       "<Figure size 640x480 with 1 Axes>"
      ]
     },
     "metadata": {},
     "output_type": "display_data"
    }
   ],
   "source": [
    "# number of tracks per album\n",
    "album_track_count = df_track.groupby('album_id').size().reset_index(name='track_count')\n",
    "album_track_count = album_track_count.sort_values(by='track_count', ascending=False)\n",
    "\n",
    "# make a distribution of the number of tracks per album\n",
    "plt.hist(album_track_count['track_count'], bins=50)\n",
    "plt.xlabel('Number of tracks')\n",
    "plt.ylabel('Number of albums')\n",
    "plt.yscale('log')\n",
    "plt.title('Distribution of the number of tracks per album')\n",
    "\n",
    "album_track_count = album_track_count.head(20)\n",
    "album_track_count['album_name'] = album_track_count['album_id'].apply(convert_album_id_to_name)\n",
    "print(\"Top 20 albums by number of tracks:\\n\" + str(album_track_count))\n"
   ]
  },
  {
   "cell_type": "code",
   "execution_count": 57,
   "metadata": {},
   "outputs": [
    {
     "name": "stdout",
     "output_type": "stream",
     "text": [
      "Tracks by Taylor Swift: 95\n",
      "Tracks by Calvin Harris: 109\n",
      "\n",
      "('Shake It Off', 'Blame', 0.0833516)\n",
      "('Style', 'Faith', 0.00607397)\n"
     ]
    }
   ],
   "source": [
    "# Compare all artist_id 1 tracks with all artist_id 2 tracks using track_similarity\n",
    "\n",
    "artist_1 = 'Taylor Swift'\n",
    "artist_2 = 'Calvin Harris'\n",
    "\n",
    "tracks_by_taylor_swift_ids = get_all_tracks_by_artist(get_artist_id(artist_1), True).to_list()\n",
    "other_artist_tracks_ids = get_all_tracks_by_artist(get_artist_id(artist_2), True).to_list()\n",
    "\n",
    "print(f'Tracks by {artist_1}: {len(tracks_by_taylor_swift_ids)}')\n",
    "print(f'Tracks by {artist_2}: {len(other_artist_tracks_ids)}\\n')\n",
    "\n",
    "# Get the similarity between all tracks by taylor swift and all tracks by the other artist\n",
    "result = compare_track_lists_sim(tracks_by_taylor_swift_ids, other_artist_tracks_ids) \n",
    "for r in result:\n",
    "    print(r)\n",
    "\n",
    "if len(result) == 0:\n",
    "    print('No similarities found between the tracks of the two artists')"
   ]
  },
  {
   "cell_type": "code",
   "execution_count": 58,
   "metadata": {},
   "outputs": [
    {
     "name": "stdout",
     "output_type": "stream",
     "text": [
      "Track ids without similarity value: [1, 12, 14, 16, 19, 23, 31, 32, 33, 35] ...\n",
      "Number of track ids without similarity value: 16174\n",
      "Percentage of track ids without similarity value: 69.16 %\n"
     ]
    }
   ],
   "source": [
    "# print all track ids that do not have a similarity value\n",
    "temp_list = []\n",
    "track_ids = df_track['track_id'].to_list()\n",
    "for track_id in track_ids:\n",
    "    if df_similar[(df_similar['track_id_1'] == track_id) | (df_similar['track_id_2'] == track_id)].empty:\n",
    "        temp_list.append(track_id)\n",
    "\n",
    "print('Track ids without similarity value:', f\"{temp_list[:10]} ...\" if len(temp_list) > 10 else temp_list)\n",
    "print('Number of track ids without similarity value:', len(temp_list))\n",
    "print('Percentage of track ids without similarity value:', round(len(temp_list) / track_count * 100, 2), '%')"
   ]
  }
 ],
 "metadata": {
  "kernelspec": {
   "display_name": "Python 3",
   "language": "python",
   "name": "python3"
  },
  "language_info": {
   "codemirror_mode": {
    "name": "ipython",
    "version": 3
   },
   "file_extension": ".py",
   "mimetype": "text/x-python",
   "name": "python",
   "nbconvert_exporter": "python",
   "pygments_lexer": "ipython3",
   "version": "3.13.1"
  }
 },
 "nbformat": 4,
 "nbformat_minor": 2
}
