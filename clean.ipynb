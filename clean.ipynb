{
 "cells": [
  {
   "cell_type": "markdown",
   "metadata": {},
   "source": [
    "# Pre-Processing"
   ]
  },
  {
   "cell_type": "code",
   "execution_count": 56,
   "metadata": {},
   "outputs": [],
   "source": [
    "import pandas as pd\n",
    "import numpy as np"
   ]
  },
  {
   "cell_type": "code",
   "execution_count": 57,
   "metadata": {},
   "outputs": [],
   "source": [
    "# Tracks\n",
    "df_track = pd.read_csv('data/track.csv', sep=';')\n",
    "df_track_id_space = pd.read_csv('data/track_id_space.csv', sep=';')\n",
    "df_album_track = pd.read_csv('data/album_track.csv', sep=';')\n",
    "\n",
    "# Ratings\n",
    "df_lastfm_rating = pd.read_csv('data/lastfm_rating.csv', sep=';')\n",
    "df_billboard_rating = pd.read_csv('data/billboard_rating.csv', sep=';')\n",
    "df_spotify_rating = pd.read_csv('data/spotify_rating.csv', sep=';')\n",
    "\n",
    "# Albums\n",
    "df_album_id_space = pd.read_csv('data/album_id_space.csv', sep=';')\n",
    "df_album = pd.read_csv('data/album.csv', sep=';')\n",
    "df_artist_album = pd.read_csv('data/artist_album.csv', sep=';')\n",
    "\n",
    "# Artists\n",
    "df_artist_id_space = pd.read_csv('data/artist_id_space.csv', sep=';')\n",
    "df_artist = pd.read_csv('data/artist.csv', sep=';')"
   ]
  },
  {
   "cell_type": "code",
   "execution_count": 58,
   "metadata": {},
   "outputs": [
    {
     "name": "stdout",
     "output_type": "stream",
     "text": [
      "(22704, 7)\n",
      "(23385, 5)\n",
      "(19486, 3)\n",
      "(19486, 13)\n"
     ]
    }
   ],
   "source": [
    "print(df_track_id_space.shape)\n",
    "print(df_track.shape)\n",
    "print(df_album_track.shape)\n",
    "\n",
    "df_track_id_space.head()\n",
    "\n",
    "# merge dataframes df_track and df_track_id_space\n",
    "df_track = pd.merge(df_track, df_track_id_space, on='track_id')\n",
    "df_track = pd.merge(df_track, df_album_track, on='track_id')\n",
    "\n",
    "print(df_track.shape)\n",
    "\n",
    "df_track.head()\n",
    "\n",
    "# save to file\n",
    "df_track.to_csv('data_clean/track.csv', index=False, sep=',')"
   ]
  },
  {
   "cell_type": "code",
   "execution_count": 59,
   "metadata": {},
   "outputs": [
    {
     "name": "stdout",
     "output_type": "stream",
     "text": [
      "(1843, 4)\n",
      "(1843, 2)\n",
      "(1843, 2)\n",
      "(1843, 6)\n"
     ]
    }
   ],
   "source": [
    "print(df_album.shape)\n",
    "print(df_album_id_space.shape)\n",
    "print(df_artist_album.shape)\n",
    "\n",
    "# merge dataframes df_album and df_album_id_space\n",
    "df_album = pd.merge(df_album, df_album_id_space, on='album_id')\n",
    "df_album = pd.merge(df_album, df_artist_album, on='album_id')\n",
    "\n",
    "print(df_album.shape)\n",
    "\n",
    "df_album.head()\n",
    "\n",
    "# save to file\n",
    "df_album.to_csv('data_clean/album.csv', index=False, sep=',')"
   ]
  },
  {
   "cell_type": "code",
   "execution_count": 60,
   "metadata": {},
   "outputs": [
    {
     "name": "stdout",
     "output_type": "stream",
     "text": [
      "(43300, 5)\n",
      "(57800, 4)\n",
      "(6500, 5)\n",
      "(4236719, 12)\n"
     ]
    }
   ],
   "source": [
    "# merge all 3 rating dataframes\n",
    "\n",
    "print(df_lastfm_rating.shape)\n",
    "print(df_billboard_rating.shape)\n",
    "print(df_spotify_rating.shape)\n",
    "\n",
    "df_rating = pd.merge(df_lastfm_rating, df_billboard_rating, on='track_id')\n",
    "\n",
    "df_rating = pd.merge(df_rating, df_spotify_rating, on='track_id')\n",
    "\n",
    "print(df_rating.shape)\n",
    "\n",
    "df_rating.head()\n",
    "\n",
    "# remove columns id, id_x, id_y, position_x, position_y, position\n",
    "df_rating = df_rating.drop(columns=['id', 'id_x', 'id_y'])\n",
    "\n",
    "# save to file\n",
    "df_rating.to_csv('data_clean/rating.csv', index=False, sep=',')\n"
   ]
  },
  {
   "cell_type": "code",
   "execution_count": 61,
   "metadata": {},
   "outputs": [
    {
     "name": "stdout",
     "output_type": "stream",
     "text": [
      "(2557, 3)\n",
      "(2226, 6)\n",
      "(2226, 8)\n"
     ]
    }
   ],
   "source": [
    "# merge artist dataframes\n",
    "\n",
    "print(df_artist.shape)\n",
    "print(df_artist_id_space.shape)\n",
    "\n",
    "df_artist = pd.merge(df_artist, df_artist_id_space, on='artist_id')\n",
    "\n",
    "print(df_artist.shape)\n",
    "\n",
    "df_artist.head()\n",
    "\n",
    "# save to file\n",
    "df_artist.to_csv('data_clean/artist.csv', index=False, sep=',')"
   ]
  },
  {
   "cell_type": "code",
   "execution_count": 62,
   "metadata": {},
   "outputs": [
    {
     "data": {
      "text/html": [
       "<div>\n",
       "<style scoped>\n",
       "    .dataframe tbody tr th:only-of-type {\n",
       "        vertical-align: middle;\n",
       "    }\n",
       "\n",
       "    .dataframe tbody tr th {\n",
       "        vertical-align: top;\n",
       "    }\n",
       "\n",
       "    .dataframe thead th {\n",
       "        text-align: right;\n",
       "    }\n",
       "</style>\n",
       "<table border=\"1\" class=\"dataframe\">\n",
       "  <thead>\n",
       "    <tr style=\"text-align: right;\">\n",
       "      <th></th>\n",
       "      <th>id</th>\n",
       "      <th>track_id</th>\n",
       "      <th>similar_track_id</th>\n",
       "      <th>sim_degree</th>\n",
       "      <th>source</th>\n",
       "    </tr>\n",
       "  </thead>\n",
       "  <tbody>\n",
       "    <tr>\n",
       "      <th>0</th>\n",
       "      <td>1</td>\n",
       "      <td>2</td>\n",
       "      <td>72</td>\n",
       "      <td>1.000000</td>\n",
       "      <td>lastfm</td>\n",
       "    </tr>\n",
       "    <tr>\n",
       "      <th>1</th>\n",
       "      <td>2</td>\n",
       "      <td>2</td>\n",
       "      <td>13</td>\n",
       "      <td>0.441825</td>\n",
       "      <td>lastfm</td>\n",
       "    </tr>\n",
       "    <tr>\n",
       "      <th>2</th>\n",
       "      <td>3</td>\n",
       "      <td>2</td>\n",
       "      <td>69</td>\n",
       "      <td>0.334081</td>\n",
       "      <td>lastfm</td>\n",
       "    </tr>\n",
       "    <tr>\n",
       "      <th>3</th>\n",
       "      <td>4</td>\n",
       "      <td>2</td>\n",
       "      <td>3</td>\n",
       "      <td>0.332400</td>\n",
       "      <td>lastfm</td>\n",
       "    </tr>\n",
       "    <tr>\n",
       "      <th>4</th>\n",
       "      <td>5</td>\n",
       "      <td>2</td>\n",
       "      <td>39</td>\n",
       "      <td>0.309246</td>\n",
       "      <td>lastfm</td>\n",
       "    </tr>\n",
       "  </tbody>\n",
       "</table>\n",
       "</div>"
      ],
      "text/plain": [
       "   id  track_id  similar_track_id  sim_degree  source\n",
       "0   1         2                72    1.000000  lastfm\n",
       "1   2         2                13    0.441825  lastfm\n",
       "2   3         2                69    0.334081  lastfm\n",
       "3   4         2                 3    0.332400  lastfm\n",
       "4   5         2                39    0.309246  lastfm"
      ]
     },
     "execution_count": 62,
     "metadata": {},
     "output_type": "execute_result"
    }
   ],
   "source": [
    "df_sim = pd.read_csv('data/track_similarity.csv', sep=';')\n",
    "\n",
    "df_sim.head()\n"
   ]
  },
  {
   "cell_type": "code",
   "execution_count": 63,
   "metadata": {},
   "outputs": [],
   "source": [
    "# remove from sim the column source because it does not have information\n",
    "df_sim = df_sim.drop(columns=['source', 'id'])\n",
    "\n",
    "# save to file\n",
    "df_sim.to_csv('data_clean/track_similarity.csv', index=False, sep=',')"
   ]
  },
  {
   "cell_type": "code",
   "execution_count": 64,
   "metadata": {},
   "outputs": [
    {
     "name": "stdout",
     "output_type": "stream",
     "text": [
      "(19486, 13)\n",
      "(1843, 6)\n",
      "(19486, 14)\n"
     ]
    }
   ],
   "source": [
    "print(df_track.shape)\n",
    "print(df_album.shape)\n",
    "\n",
    "# append _album to all columns in df_album\n",
    "df_album.columns = [col + '_album' for col in df_album.columns]\n",
    "\n",
    "album_cols = df_album.columns.tolist()\n",
    "album_cols.remove('artist_id_album')\n",
    "album_cols.remove('album_id_album')\n",
    "# print(album_cols)\n",
    "\n",
    "# rename column album_id_album to album_id\n",
    "df_album = df_album.rename(columns={'album_id_album': 'album_id'})\n",
    "\n",
    "# add to track the column artist_id\n",
    "df_track = pd.merge(df_track, df_album, on='album_id')\n",
    "\n",
    "df_track = df_track.drop(columns=album_cols)\n",
    "\n",
    "# rename artist_id_album to artist_id\n",
    "df_track = df_track.rename(columns={'artist_id_album': 'artist_id'})\n",
    "\n",
    "print(df_track.shape)\n",
    "df_track.head()\n",
    "\n",
    "# save to file\n",
    "df_track.to_csv('data_clean/track.csv', index=False, sep=',')"
   ]
  }
 ],
 "metadata": {
  "kernelspec": {
   "display_name": "Python 3",
   "language": "python",
   "name": "python3"
  },
  "language_info": {
   "codemirror_mode": {
    "name": "ipython",
    "version": 3
   },
   "file_extension": ".py",
   "mimetype": "text/x-python",
   "name": "python",
   "nbconvert_exporter": "python",
   "pygments_lexer": "ipython3",
   "version": "3.13.1"
  }
 },
 "nbformat": 4,
 "nbformat_minor": 2
}
