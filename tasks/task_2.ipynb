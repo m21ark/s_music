{
 "cells": [
  {
   "cell_type": "markdown",
   "metadata": {},
   "source": [
    "# Explore Music  Similarity & Popularity"
   ]
  },
  {
   "cell_type": "markdown",
   "metadata": {},
   "source": [
    "## Imports"
   ]
  },
  {
   "cell_type": "code",
   "execution_count": 1,
   "metadata": {},
   "outputs": [],
   "source": [
    "import pandas as pd\n",
    "import numpy as np\n",
    "import matplotlib.pyplot as plt\n",
    "from scipy.stats import spearmanr\n",
    "import seaborn as sns\n",
    "import networkx as nx\n",
    "import matplotlib.pyplot as plt\n",
    "import matplotlib.colors as mcolors\n",
    "import matplotlib.cm as cm\n",
    "from networkx.algorithms import community"
   ]
  },
  {
   "cell_type": "markdown",
   "metadata": {},
   "source": [
    "## Data Imports"
   ]
  },
  {
   "cell_type": "code",
   "execution_count": 2,
   "metadata": {},
   "outputs": [],
   "source": [
    "df_track = pd.read_csv('../data/track.csv')\n",
    "df_album = pd.read_csv('../data/album.csv')\n",
    "df_artist = pd.read_csv('../data/artist.csv')\n",
    "df_rating = pd.read_csv('../data/rating.csv')\n",
    "df_similar = pd.read_csv('../data/track_similarity.csv')\n",
    "df_weekly_rating = pd.read_csv('../data/weekly_rating.csv')"
   ]
  },
  {
   "cell_type": "markdown",
   "metadata": {},
   "source": [
    "## Useful Functions"
   ]
  },
  {
   "cell_type": "code",
   "execution_count": 3,
   "metadata": {},
   "outputs": [],
   "source": [
    "# ======================= Convert Names to IDs =============================\n",
    "\n",
    "def convert_artist_name_to_id(df_artist, artist_name):\n",
    "    return df_artist[df_artist['name'] == artist_name]['artist_id'].values[0]\n",
    "\n",
    "def convert_album_name_to_id(album_name):\n",
    "    return df_album[df_album['name'] == album_name]['album_id'].values[0]\n",
    "\n",
    "def convert_track_name_to_id(track_name):\n",
    "    return df_track[df_track['name'] == track_name]['track_id'].values[0]\n",
    "\n",
    "# ======================= Convert Ids to Names =============================\n",
    "\n",
    "def convert_track_id_to_name(track_id):\n",
    "    return df_track[df_track['track_id'] == track_id]['name'].values[0]\n",
    "\n",
    "def convert_album_id_to_name(album_id):\n",
    "    return df_album[df_album['album_id'] == album_id]['name'].values[0]\n",
    "\n",
    "def convert_artist_id_to_name(artist_id):\n",
    "    return df_artist[df_artist['artist_id'] == artist_id]['name'].values[0]\n",
    "\n",
    "# ======================= Others =============================\n",
    "\n",
    "def get_all_artist_albums(artist_name, byName=False):\n",
    "    all_albums = df_artist[df_artist['name'] == artist_name]['all_albums'].values[0]\n",
    "    all_albums = all_albums[1:-1].split(',')\n",
    "    all_albums = [int(album) for album in all_albums]\n",
    "\n",
    "    if byName:\n",
    "        all_albums = [convert_album_id_to_name(album) for album in all_albums]\n",
    "\n",
    "    return all_albums\n",
    "\n",
    "def get_all_artist_tracks(artist_name, byName=False):\n",
    "    all_tracks = df_artist[df_artist['name'] == artist_name]['all_tracks'].values[0]\n",
    "    all_tracks = all_tracks[1:-1].split(',')\n",
    "    all_tracks = [int(track) for track in all_tracks]\n",
    "\n",
    "    all_tracks = [convert_track_id_to_name(track) for track in all_tracks]\n",
    "\n",
    "    return all_tracks"
   ]
  },
  {
   "cell_type": "markdown",
   "metadata": {},
   "source": [
    "## Track Similarity"
   ]
  },
  {
   "cell_type": "code",
   "execution_count": null,
   "metadata": {},
   "outputs": [],
   "source": [
    "# print all track ids that do not have a similarity value\n",
    "temp_list = []\n",
    "track_count = len(df_track)\n",
    "\n",
    "track_ids = df_track['track_id'].to_list()\n",
    "for track_id in track_ids:\n",
    "    if df_similar[(df_similar['track_id_1'] == track_id) | (df_similar['track_id_2'] == track_id)].empty:\n",
    "        temp_list.append(track_id)\n",
    "\n",
    "print('Track ids without similarity value:', f\"{temp_list[:10]} ...\" if len(temp_list) > 10 else temp_list)\n",
    "print('Number of track ids without similarity value:', len(temp_list))\n",
    "print('Percentage of track ids without similarity value:', round(len(temp_list) / track_count * 100, 2), '%')"
   ]
  },
  {
   "cell_type": "code",
   "execution_count": null,
   "metadata": {},
   "outputs": [],
   "source": [
    "df_similar.head(10)"
   ]
  },
  {
   "cell_type": "code",
   "execution_count": null,
   "metadata": {},
   "outputs": [],
   "source": [
    "G = nx.Graph()\n",
    "plt.figure(figsize=(30, 30), dpi=150)\n",
    "\n",
    "# Add edges with weights\n",
    "for _, row in df_similar.iterrows():\n",
    "    t1 = row['track_name_1'].replace('$', '_')\n",
    "    t2 = row['track_name_2'].replace('$', '_')\n",
    "    G.add_edge(t1, t2, weight=row['sim_degree'])\n",
    "\n",
    "# Find communities and assign colors\n",
    "communities = community.greedy_modularity_communities(G)\n",
    "node_colors = {}\n",
    "for idx, comm in enumerate(communities):\n",
    "    for node in comm:\n",
    "        node_colors[node] = idx\n",
    "\n",
    "pos = nx.spring_layout(G)\n",
    "\n",
    "nx.draw_networkx_nodes(G, pos, node_size=300,\n",
    "    node_color=[node_colors[node] for node in G.nodes()]\n",
    ")\n",
    "\n",
    "nx.draw_networkx_edges(G, pos, edgelist=G.edges(data=True),\n",
    "    width=[edge[2]['weight'] * 5 for edge in G.edges(data=True)]\n",
    ")\n",
    "\n",
    "nx.draw_networkx_labels(G, pos, font_size=5, font_color=\"black\")\n",
    "plt.title(\"Song Similarity Graph\")\n",
    "plt.show()"
   ]
  },
  {
   "cell_type": "code",
   "execution_count": null,
   "metadata": {},
   "outputs": [],
   "source": [
    "# Calculate the listeners of a track\n",
    "def get_all_listeners(track_id):\n",
    "\n",
    "    # filter the track\n",
    "    track_data = df_track[df_track['track_id'] == track_id]\n",
    "    track_data = track_data.reset_index(drop=True)\n",
    "\n",
    "    # return the sum of the lastfm_playcount,lastfm_listeners \n",
    "    if track_data['lastfm_playcount'].values[0] != 'nan':\n",
    "        ret1 = track_data['lastfm_listeners'].values[0]\n",
    "    else: \n",
    "        ret1 = 0\n",
    "    \n",
    "    if track_data['lastfm_listeners'].values[0] != 'nan':\n",
    "        ret2 = track_data['lastfm_playcount'].values[0]\n",
    "    else:\n",
    "        ret2 = 0\n",
    "\n",
    "    return ret1 + ret2\n",
    "\n",
    "# add a new column to the dataframe with the total number of listeners\n",
    "df_track['total_listeners'] = df_track['track_id'].apply(get_all_listeners)\n",
    "df_track.head()"
   ]
  },
  {
   "cell_type": "code",
   "execution_count": null,
   "metadata": {},
   "outputs": [],
   "source": [
    "artist_total_listeners = df_track.groupby('artist_id').agg({'total_listeners': 'sum'}).reset_index()\n",
    "artist_total_listeners['artist_name'] = artist_total_listeners['artist_id'].apply(convert_artist_id_to_name)\n",
    "artist_total_listeners = artist_total_listeners.sort_values(by='total_listeners', ascending=False)\n",
    "\n",
    "# filter out every artist with 0 listeners\n",
    "print(artist_total_listeners[artist_total_listeners['total_listeners'] == 0].shape)\n",
    "artist_total_listeners = artist_total_listeners[artist_total_listeners['total_listeners'] > 0]\n",
    "print(artist_total_listeners.shape)\n",
    "\n",
    "# sort the artists by the total number of listeners\n",
    "artist_total_listeners = artist_total_listeners.sort_values(by='total_listeners', ascending=False)\n",
    "\n",
    "artist_total_listeners.head()"
   ]
  },
  {
   "cell_type": "markdown",
   "metadata": {},
   "source": [
    "## Intra-Artist Similarity"
   ]
  },
  {
   "cell_type": "code",
   "execution_count": 9,
   "metadata": {},
   "outputs": [],
   "source": [
    "# TODO FIND ARTISTS SIMILAR WITH THEMSELVES"
   ]
  },
  {
   "cell_type": "markdown",
   "metadata": {},
   "source": [
    "## Inter-Artist Similarity"
   ]
  },
  {
   "cell_type": "code",
   "execution_count": null,
   "metadata": {},
   "outputs": [],
   "source": [
    "# group by artist_id1 and 2 and get the mean sim_degree\n",
    "df_similar_artists = df_similar.groupby(['artist_name_1', 'artist_name_2']).agg({'sim_degree': 'mean'}).reset_index()\n",
    "print(df_similar_artists.shape)\n",
    "df_similar_artists.head()"
   ]
  },
  {
   "cell_type": "code",
   "execution_count": null,
   "metadata": {},
   "outputs": [],
   "source": [
    "# remove all artists that have \" and \" or \" & \" or \" featuring \" in their name\n",
    "artist_names = set(df_similar_artists['artist_name_1'].to_list() + df_similar_artists['artist_name_2'].to_list())\n",
    "\n",
    "count = 0\n",
    "for name in artist_names:\n",
    "    if ' and ' in name or ' & ' in name or ' featuring ' in name:\n",
    "        count += 1\n",
    "\n",
    "print(f'Dropped {count} artists with \" and \", \" & \" or \" featuring \" in their name')\n",
    "df_similar_artists = df_similar_artists[~df_similar_artists['artist_name_1'].str.contains(' and | & | featuring ', case=False)]"
   ]
  },
  {
   "cell_type": "code",
   "execution_count": null,
   "metadata": {},
   "outputs": [],
   "source": [
    "# remove artists that are not in the artist table (i.e. they have no listeners) \n",
    "artist_names = set(artist_total_listeners['artist_name'].to_list())\n",
    "\n",
    "for row in df_similar_artists.iterrows():\n",
    "    if row[1]['artist_name_1'] not in artist_names or row[1]['artist_name_2'] not in artist_names: # drop the row if both artists are not in the list\n",
    "        df_similar_artists.drop(row[0], inplace=True)\n",
    "\n",
    "print(df_similar_artists.shape)\n",
    "df_similar_artists.head()"
   ]
  },
  {
   "cell_type": "markdown",
   "metadata": {},
   "source": [
    "## Artist Popularity By Listener Count"
   ]
  },
  {
   "cell_type": "code",
   "execution_count": null,
   "metadata": {},
   "outputs": [],
   "source": [
    "# get the listeners of a track\n",
    "track_name = 'Blank Space'\n",
    "track_id = convert_track_name_to_id(track_name)\n",
    "listeners = get_all_listeners(track_id)\n",
    "print(f'Total listeners of \"{track_name}\": {listeners}')\n"
   ]
  },
  {
   "cell_type": "code",
   "execution_count": null,
   "metadata": {},
   "outputs": [],
   "source": [
    "G = nx.Graph()\n",
    "\n",
    "for _, row in df_similar_artists.iterrows():\n",
    "    G.add_edge(row['artist_name_1'], row['artist_name_2'], weight=row['sim_degree'])\n",
    "\n",
    "# Set layout\n",
    "plt.figure(figsize=(40, 40), dpi=200)\n",
    "pos = nx.spring_layout(G, k=0.7, seed=42)\n",
    "listeners_data = dict()\n",
    "\n",
    "for row in artist_total_listeners.iterrows():\n",
    "    listeners_data[row[1]['artist_name']] = row[1]['total_listeners']\n",
    "\n",
    "max_listeners = max(listeners_data.values())\n",
    "min_listeners = min(listeners_data.values())\n",
    "norm = mcolors.Normalize(vmin=min_listeners, vmax=max_listeners)\n",
    "cmap = cm.get_cmap(\"coolwarm\")\n",
    "\n",
    "node_colors = {\n",
    "    artist: cmap(norm(listeners_data[artist]))\n",
    "    for artist in G.nodes()\n",
    "}\n",
    "\n",
    "pos = nx.spring_layout(G, k=0.5, seed=42)\n",
    "sorted_nodes = sorted(G.nodes(), key=lambda node: listeners_data[node])\n",
    "\n",
    "for node in sorted_nodes:\n",
    "    nx.draw_networkx_nodes(G, pos, nodelist=[node], node_size=[5000],\n",
    "        node_color=[node_colors[node]]\n",
    "    )\n",
    "\n",
    "nx.draw_networkx_edges(G, pos, edgelist=G.edges(data=True), width= 0.1)\n",
    "nx.draw_networkx_labels(G, pos, font_size=4, font_color=\"black\")\n",
    "plt.title(\"Artist Similarity Graph with Listener-Based Coloring\")\n",
    "plt.show()"
   ]
  },
  {
   "cell_type": "code",
   "execution_count": null,
   "metadata": {},
   "outputs": [],
   "source": [
    "artist_total_listeners.head(20)"
   ]
  },
  {
   "cell_type": "markdown",
   "metadata": {},
   "source": [
    "## Find Unpopolar Artists Similar to Very Popular Ones "
   ]
  },
  {
   "cell_type": "code",
   "execution_count": null,
   "metadata": {},
   "outputs": [],
   "source": []
  }
 ],
 "metadata": {
  "kernelspec": {
   "display_name": "Python 3",
   "language": "python",
   "name": "python3"
  },
  "language_info": {
   "codemirror_mode": {
    "name": "ipython",
    "version": 3
   },
   "file_extension": ".py",
   "mimetype": "text/x-python",
   "name": "python",
   "nbconvert_exporter": "python",
   "pygments_lexer": "ipython3",
   "version": "3.11.11"
  }
 },
 "nbformat": 4,
 "nbformat_minor": 2
}
